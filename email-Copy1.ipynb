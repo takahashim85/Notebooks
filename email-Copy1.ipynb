{
 "cells": [
  {
   "cell_type": "markdown",
   "metadata": {},
   "source": [
    "# Create a Bokeh plot to email"
   ]
  },
  {
   "cell_type": "code",
   "execution_count": 2,
   "metadata": {
    "collapsed": false
   },
   "outputs": [],
   "source": [
    "###\n",
    "### NOTE: This exercise requires a network connection\n",
    "###\n",
    "\n",
    "import numpy as np\n",
    "import pandas as pd\n",
    "\n",
    "from bokeh.plotting import figure, output_file, show, VBox\n",
    "\n",
    "# Here is some code to read in some stock data from the Yahoo Finance API\n",
    "AAPL = pd.read_csv(\n",
    "    \"http://ichart.yahoo.com/table.csv?s=AAPL&a=0&b=1&c=2000&d=0&e=1&f=2010\",\n",
    "    parse_dates=['Date'])\n",
    "MSFT = pd.read_csv(\n",
    "    \"http://ichart.yahoo.com/table.csv?s=MSFT&a=0&b=1&c=2000&d=0&e=1&f=2010\",\n",
    "    parse_dates=['Date'])\n",
    "IBM = pd.read_csv(\n",
    "    \"http://ichart.yahoo.com/table.csv?s=IBM&a=0&b=1&c=2000&d=0&e=1&f=2010\",\n",
    "    parse_dates=['Date'])\n",
    "\n",
    "output_file(\"stocks.html\", title=\"stocks.py example\")\n",
    "\n",
    "# create a figure\n",
    "p1 = figure(title=\"Stocks\",\n",
    "            x_axis_label=\"Date\",\n",
    "            y_axis_label=\"Close price\",\n",
    "            x_axis_type=\"datetime\")\n",
    "p1.below[0].formatter.formats = dict(years=['%Y'],\n",
    "                                     months=['%b %Y'],\n",
    "                                     days=['%d %b %Y'])\n",
    "\n",
    "# EXERCISE: finish this line plot, and add more for the other stocks. Each one should\n",
    "# have a legend, and its own color.\n",
    "p1.line(\n",
    "    AAPL['Date'],                                       # x coordinates\n",
    "    AAPL['Adj Close'],                                  # y coordinates\n",
    "    color='#A6CEE3',                                    # set a color for the line\n",
    "    legend='AAPL',                                      # attach a legend label\n",
    ")\n",
    "\n",
    "# EXERCISE: style the plot, set a title, lighten the gridlines, etc.\n",
    "\n",
    "# EXERCISE: start a new figure\n",
    "\n",
    "# Here is some code to compute the 30-day moving average for AAPL\n",
    "aapl = AAPL['Adj Close']\n",
    "aapl_dates = AAPL['Date']\n",
    "\n",
    "window_size = 30\n",
    "window = np.ones(window_size)/float(window_size)\n",
    "aapl_avg = np.convolve(aapl, window, 'same')\n",
    "\n",
    "# EXERCISE: plot a scatter of circles for the individual AAPL prices with legend\n",
    "# 'close'. Remember to set the x axis type and tools on the first renderer\n",
    "\n",
    "# EXERCISE: plot a line of the AAPL moving average data with the legeng 'avg'\n",
    "\n",
    "# EXERCISE: style the plot, set a title, lighten the gridlines, etc.\n",
    "\n",
    "show(VBox(p1))  # open a browser"
   ]
  },
  {
   "cell_type": "markdown",
   "metadata": {},
   "source": [
    "# Create and send email"
   ]
  },
  {
   "cell_type": "code",
   "execution_count": 12,
   "metadata": {
    "collapsed": false
   },
   "outputs": [
    {
     "data": {
      "text/plain": [
       "(221, b'2.0.0 closing connection qp13sm10582773pbb.9 - gsmtp')"
      ]
     },
     "execution_count": 12,
     "metadata": {},
     "output_type": "execute_result"
    }
   ],
   "source": [
    "import smtplib\n",
    "\n",
    "from email.mime.multipart import MIMEMultipart\n",
    "from email.mime.text import MIMEText\n",
    "\n",
    "fromaddr = \"email\"\n",
    "toaddrs  = \"email\"\n",
    "\n",
    "# Create a text/plain message\n",
    "msg = MIMEMultipart()\n",
    "\n",
    "msg['Subject'] = 'The contents of blah'\n",
    "msg['From'] = fromaddr\n",
    "msg['To'] = toaddrs\n",
    "\n",
    "username = username\n",
    "password = pwd\n",
    "server = smtplib.SMTP('smtp.gmail.com:587')\n",
    "server.starttls()\n",
    "server.login(username,password)\n",
    "server.sendmail(fromaddr, toaddrs, msg.as_string())\n",
    "server.quit()"
   ]
  },
  {
   "cell_type": "code",
   "execution_count": null,
   "metadata": {
    "collapsed": true
   },
   "outputs": [],
   "source": []
  }
 ],
 "metadata": {
  "kernelspec": {
   "display_name": "Python 3",
   "language": "python",
   "name": "python3"
  },
  "language_info": {
   "codemirror_mode": {
    "name": "ipython",
    "version": 3
   },
   "file_extension": ".py",
   "mimetype": "text/x-python",
   "name": "python",
   "nbconvert_exporter": "python",
   "pygments_lexer": "ipython3",
   "version": "3.4.3"
  }
 },
 "nbformat": 4,
 "nbformat_minor": 0
}
